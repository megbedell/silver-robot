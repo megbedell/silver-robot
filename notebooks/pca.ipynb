{
 "cells": [
  {
   "cell_type": "code",
   "execution_count": 1,
   "metadata": {
    "collapsed": true
   },
   "outputs": [],
   "source": [
    "import numpy as np\n",
    "import matplotlib.pyplot as plt\n",
    "from matplotlib import cm as cm\n",
    "from astropy.table import Table\n",
    "np.random.seed(42)\n",
    "% matplotlib inline"
   ]
  },
  {
   "cell_type": "code",
   "execution_count": 2,
   "metadata": {
    "collapsed": false
   },
   "outputs": [],
   "source": [
    "# Read data\n",
    "originaldata = Table.read('../data/star_data.fits', format='fits')\n",
    "sp_names = np.asarray(['CI', 'CH', 'OI', 'NaI', 'MgI', 'AlI', 'SiI', 'SI', 'CaI', 'ScI',\n",
    "       'ScII', 'TiI', 'TiII', 'VI', 'CrI', 'CrII', 'MnI', 'CoI', 'NiI',\n",
    "       'CuI', 'ZnI', 'SrI', 'YII', 'ZrII', 'BaII', 'LaII', 'CeII', 'PrII',\n",
    "       'NdII', 'SmII', 'EuII', 'GdII', 'DyII'])\n",
    "sp_err_names = np.asarray([\"{}_err\".format(spn) for spn in sp_names])"
   ]
  },
  {
   "cell_type": "code",
   "execution_count": 3,
   "metadata": {
    "collapsed": false
   },
   "outputs": [
    {
     "data": {
      "text/plain": [
       "array(['[ CI / Fe ]', '[ CH / Fe ]', '[ OI / Fe ]', '[ NaI / Fe ]',\n",
       "       '[ MgI / Fe ]', '[ AlI / Fe ]', '[ SiI / Fe ]', '[ SI / Fe ]',\n",
       "       '[ CaI / Fe ]', '[ ScI / Fe ]', '[ ScII / Fe ]', '[ TiI / Fe ]',\n",
       "       '[ TiII / Fe ]', '[ VI / Fe ]', '[ CrI / Fe ]', '[ CrII / Fe ]',\n",
       "       '[ MnI / Fe ]', '[ CoI / Fe ]', '[ NiI / Fe ]', '[ CuI / Fe ]',\n",
       "       '[ ZnI / Fe ]', '[ SrI / Fe ]', '[ YII / Fe ]', '[ ZrII / Fe ]',\n",
       "       '[ BaII / Fe ]', '[ LaII / Fe ]', '[ CeII / Fe ]', '[ PrII / Fe ]',\n",
       "       '[ NdII / Fe ]', '[ SmII / Fe ]', '[ EuII / Fe ]', '[ GdII / Fe ]',\n",
       "       '[ DyII / Fe ]'], \n",
       "      dtype='<U13')"
      ]
     },
     "execution_count": 3,
     "metadata": {},
     "output_type": "execute_result"
    }
   ],
   "source": [
    "# Make plot labels\n",
    "labels = np.asarray([\"[ {} / Fe ]\".format(spn) for spn in sp_names])\n",
    "labels"
   ]
  },
  {
   "cell_type": "code",
   "execution_count": 4,
   "metadata": {
    "collapsed": false
   },
   "outputs": [],
   "source": [
    "# make rectangular data                                                                                          \n",
    "N = len(originaldata) # will be over-written\n",
    "D = len(sp_names)\n",
    "data = np.zeros((N, D))\n",
    "data_err = np.zeros((N, D))\n",
    "for d, (spn, spne) in enumerate(zip(sp_names, sp_err_names)):\n",
    "    data[:, d] = originaldata[spn] # \"log\" b/c these are logarithmic abundances\n",
    "    data_err[:, d] = originaldata[spne]"
   ]
  },
  {
   "cell_type": "code",
   "execution_count": 5,
   "metadata": {
    "collapsed": false
   },
   "outputs": [],
   "source": [
    "# FOR NOW: remove one bad object -- HACK\n",
    "good = np.isfinite(data)\n",
    "bad = ~good\n",
    "mask = np.sum(bad, axis=1) == 0\n",
    "data = data[mask] # remove one star with one missing abundance\n",
    "data_err = data_err[mask]\n",
    "N, D = data.shape # over-write"
   ]
  },
  {
   "cell_type": "code",
   "execution_count": 6,
   "metadata": {
    "collapsed": true
   },
   "outputs": [],
   "source": [
    "# make fake data with no structure\n",
    "mean = np.mean(data, axis=0)\n",
    "data_fake = mean[None, :] + np.random.normal(size=(N, D)) * data_err"
   ]
  },
  {
   "cell_type": "code",
   "execution_count": 7,
   "metadata": {
    "collapsed": false
   },
   "outputs": [
    {
     "data": {
      "text/plain": [
       "<matplotlib.text.Text at 0x10b78a7b8>"
      ]
     },
     "execution_count": 7,
     "metadata": {},
     "output_type": "execute_result"
    },
    {
     "data": {
      "image/png": "[encoded data removed]",
      "text/plain": [
       "<matplotlib.figure.Figure at 0x10b6a7748>"
      ]
     },
     "metadata": {},
     "output_type": "display_data"
    },
    {
     "data": {
      "image/png": "[encoded data removed]",
      "text/plain": [
       "<matplotlib.figure.Figure at 0x10b6d8b00>"
      ]
     },
     "metadata": {},
     "output_type": "display_data"
    }
   ],
   "source": [
    "i, j = 0, 1\n",
    "plt.scatter(data[:, i], data[:, j])\n",
    "plt.xlabel(sp_names[i])\n",
    "plt.ylabel(sp_names[j])\n",
    "plt.figure()\n",
    "plt.scatter(data_fake[:, i], data_fake[:, j])\n",
    "plt.xlabel(sp_names[i])\n",
    "plt.ylabel(sp_names[j])"
   ]
  },
  {
   "cell_type": "code",
   "execution_count": 8,
   "metadata": {
    "collapsed": false
   },
   "outputs": [],
   "source": [
    "def pca(data):\n",
    "    mean = np.mean(data, axis=0)\n",
    "    dd = data - mean[None, :]\n",
    "    u, s, vecs = np.linalg.svd(dd, full_matrices=False)\n",
    "    amps = u * s[None, :]\n",
    "    # reconstrsyuction = mean[None, :] + np.dot(pcas, v)\n",
    "    # print(data - reconstruction)\n",
    "    return vecs, amps"
   ]
  },
  {
   "cell_type": "code",
   "execution_count": 9,
   "metadata": {
    "collapsed": false
   },
   "outputs": [],
   "source": [
    "# run PCA on the data\n",
    "vecs, amps = pca(data)\n",
    "eigenvals = np.sum(amps * amps, axis=0)\n",
    "# run PCA on the random / fake data\n",
    "fvecs, famps = pca(data_fake)\n",
    "feigenvals = np.sum(famps * famps, axis=0)"
   ]
  },
  {
   "cell_type": "code",
   "execution_count": 10,
   "metadata": {
    "collapsed": false
   },
   "outputs": [
    {
     "data": {
      "text/plain": [
       "(0.0001, 10.0)"
      ]
     },
     "execution_count": 10,
     "metadata": {},
     "output_type": "execute_result"
    },
    {
     "data": {
      "image/png": "[encoded data removed]",
      "text/plain": [
       "<matplotlib.figure.Figure at 0x10ea9d978>"
      ]
     },
     "metadata": {},
     "output_type": "display_data"
    }
   ],
   "source": [
    "# compare data (black) and fake data (red) PCA amplitudes\n",
    "plt.scatter(np.arange(len(eigenvals)), eigenvals, color=\"k\")\n",
    "plt.scatter(np.arange(len(feigenvals)), feigenvals, color=\"r\")\n",
    "plt.semilogy()\n",
    "plt.ylim(0.0001, 10.)"
   ]
  },
  {
   "cell_type": "code",
   "execution_count": 11,
   "metadata": {
    "collapsed": false
   },
   "outputs": [
    {
     "data": {
      "text/plain": [
       "((79, 33), (79, 33), (79, 33))"
      ]
     },
     "execution_count": 11,
     "metadata": {},
     "output_type": "execute_result"
    }
   ],
   "source": [
    "# make a RANDOM rotation of the DATA\n",
    "# that is, the real data, but rotated into a random basis\n",
    "data_rotated = np.dot((data - mean[None, :]), fvecs.T)\n",
    "data.shape, data_rotated.shape, data_fake.shape"
   ]
  },
  {
   "cell_type": "code",
   "execution_count": 12,
   "metadata": {
    "collapsed": true
   },
   "outputs": [],
   "source": [
    "# Make point properties\n",
    "cmap = cm.get_cmap(\"viridis\")\n",
    "colors = np.arange(N)[::-1]\n",
    "# Make other plot properties\n",
    "s = 5.\n",
    "alpha = 0.5\n",
    "foo = 2.5\n",
    "figsize = (8 * foo, 4 * foo)\n",
    "xlim = (-0.25, 0.45)"
   ]
  },
  {
   "cell_type": "code",
   "execution_count": 13,
   "metadata": {
    "collapsed": false
   },
   "outputs": [],
   "source": [
    "# plotting utility\n",
    "def plot_data(data, labels):\n",
    "    f, axlist = plt.subplots(4, 8, sharex=True, sharey=True, figsize=figsize)\n",
    "    for i, ax in enumerate(axlist.flatten()):\n",
    "        if (i + 1) >= D:\n",
    "            break\n",
    "        if i % 2:\n",
    "            j, k = i+1, i\n",
    "        else:\n",
    "            j, k = i, i+1\n",
    "        ax.scatter(data[:, j], data[:, k], s=s, c=colors, alpha=alpha, cmap=cmap)\n",
    "        ax.set_xlabel(labels[j])\n",
    "        ax.set_ylabel(labels[k])\n",
    "        ax.set_xlim(xlim)\n",
    "        ax.set_ylim(xlim)\n",
    "    f.subplots_adjust(hspace=0.15)\n",
    "    f.subplots_adjust(wspace=0.15)\n",
    "    return f"
   ]
  },
  {
   "cell_type": "code",
   "execution_count": 14,
   "metadata": {
    "collapsed": false
   },
   "outputs": [],
   "source": [
    "# Plot data in the natural coordinates\n",
    "f = plot_data(data - mean[None, :], labels)\n",
    "plt.savefig(\"natural.png\")\n",
    "plt.close(f)"
   ]
  },
  {
   "cell_type": "code",
   "execution_count": 15,
   "metadata": {
    "collapsed": false
   },
   "outputs": [],
   "source": [
    "# Plot data in the PCA coordinates\n",
    "pca_labels = np.asarray([\"eigen {}\".format(d) for d in range(D)])\n",
    "f = plot_data(amps, pca_labels)\n",
    "plt.savefig(\"pca.png\")\n",
    "plt.close(f)"
   ]
  },
  {
   "cell_type": "code",
   "execution_count": 16,
   "metadata": {
    "collapsed": false
   },
   "outputs": [],
   "source": [
    "# Plot data in randomly rotated coordinates\n",
    "rand_labels = np.asarray([\"random axis {}\".format(d) for d in range(D)])\n",
    "f = plot_data(data_rotated, rand_labels)\n",
    "plt.savefig(\"random.png\")\n",
    "plt.close(f)"
   ]
  },
  {
   "cell_type": "code",
   "execution_count": 17,
   "metadata": {
    "collapsed": true
   },
   "outputs": [],
   "source": [
    "def get_vectors(vec1, vec2, K):\n",
    "    \"\"\"\n",
    "    requires that vec1 and vec2 be perpendicular\n",
    "    \"\"\"\n",
    "    dot = np.dot(vec1, vec2)\n",
    "    vec2perp = vec2 - dot * vec1\n",
    "    theta_max = np.arccos(dot)\n",
    "    thetas = np.linspace(0., theta_max, K)\n",
    "    vecs = np.cos(thetas)[:, None] * vec1[None, :] + np.sin(thetas)[:, None] * vec2perp[None, :]\n",
    "    return vecs"
   ]
  },
  {
   "cell_type": "code",
   "execution_count": null,
   "metadata": {
    "collapsed": false
   },
   "outputs": [],
   "source": []
  },
  {
   "cell_type": "code",
   "execution_count": 18,
   "metadata": {
    "collapsed": false
   },
   "outputs": [
    {
     "name": "stdout",
     "output_type": "stream",
     "text": [
      "Using matplotlib backend: MacOSX\n"
     ]
    }
   ],
   "source": [
    "%matplotlib"
   ]
  },
  {
   "cell_type": "code",
   "execution_count": 19,
   "metadata": {
    "collapsed": false
   },
   "outputs": [
    {
     "data": {
      "text/plain": [
       "'\\nplt.ioff()\\nplotnum = 0\\nthisvecs = np.eye(D)\\nthislabels = np.asarray([\"\" for d in range(D)])\\nfor d in np.arange(D)[::-1]:\\n    v1 = np.zeros(D)\\n    v1[d] = 1\\n    v2 = vecs[d, :]\\n    rvecs = get_vectors(v1, v2, 8)\\n    for i, rvec in enumerate(rvecs):\\n        fn = \"{0:04d}.png\".format(plotnum)\\n        plotnum += 1\\n        thisvecs[d] = rvec\\n        thisdata = np.dot((data - mean[None, :]), thisvecs.T)\\n        thisdata.shape\\n        f = plot_data(thisdata, thislabels)\\n        plt.savefig(fn)\\n        plt.close(f)\\n'"
      ]
     },
     "execution_count": 19,
     "metadata": {},
     "output_type": "execute_result"
    }
   ],
   "source": [
    "\"\"\"\n",
    "plt.ioff()\n",
    "plotnum = 0\n",
    "thisvecs = np.eye(D)\n",
    "thislabels = np.asarray([\"\" for d in range(D)])\n",
    "for d in np.arange(D)[::-1]:\n",
    "    v1 = np.zeros(D)\n",
    "    v1[d] = 1\n",
    "    v2 = vecs[d, :]\n",
    "    rvecs = get_vectors(v1, v2, 8)\n",
    "    for i, rvec in enumerate(rvecs):\n",
    "        fn = \"{0:04d}.png\".format(plotnum)\n",
    "        plotnum += 1\n",
    "        thisvecs[d] = rvec\n",
    "        thisdata = np.dot((data - mean[None, :]), thisvecs.T)\n",
    "        thisdata.shape\n",
    "        f = plot_data(thisdata, thislabels)\n",
    "        plt.savefig(fn)\n",
    "        plt.close(f)\n",
    "\"\"\""
   ]
  },
  {
   "cell_type": "code",
   "execution_count": null,
   "metadata": {
    "collapsed": true
   },
   "outputs": [],
   "source": []
  }
 ],
 "metadata": {
  "kernelspec": {
   "display_name": "Python 3",
   "language": "python",
   "name": "python3"
  },
  "language_info": {
   "codemirror_mode": {
    "name": "ipython",
    "version": 3
   },
   "file_extension": ".py",
   "mimetype": "text/x-python",
   "name": "python",
   "nbconvert_exporter": "python",
   "pygments_lexer": "ipython3",
   "version": "3.6.0"
  }
 },
 "nbformat": 4,
 "nbformat_minor": 2
}
